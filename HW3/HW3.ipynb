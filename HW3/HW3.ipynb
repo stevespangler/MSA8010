{
 "cells": [
  {
   "cell_type": "code",
   "execution_count": 3,
   "metadata": {
    "collapsed": false
   },
   "outputs": [],
   "source": [
    "import numpy as np\n",
    "import pandas as pd\n",
    "import matplotlib.pyplot as plt\n",
    "\n",
    "df = pd.read_excel('/home/data/APD/COBRA083016_2015.xlsx', sheetname='Query')"
   ]
  },
  {
   "cell_type": "markdown",
   "metadata": {},
   "source": [
    "### Insight #1 \n",
    "During class, we isolated the monthly trend of residential burglaries for the year 2015. We could see some clear seasonal changes in the rate of these burglaries.\n",
    "\n",
    "Perhaps there are also trends for certain crimes based on what day of the week. I would like to look at auto thefts and see if they occur more frequently on particular days.\n",
    "\n",
    "There is a column in our dataset call 'Avg Day,' which seems to be accurately correlated with the day of the week the crime was reported to occur.\n",
    "\n",
    "Let's isolate the auto thefts in the dataset and eliminate those that have 'Unknown' days."
   ]
  },
  {
   "cell_type": "code",
   "execution_count": 49,
   "metadata": {
    "collapsed": false
   },
   "outputs": [
    {
     "data": {
      "text/html": [
       "<div>\n",
       "<table border=\"1\" class=\"dataframe\">\n",
       "  <thead>\n",
       "    <tr style=\"text-align: right;\">\n",
       "      <th></th>\n",
       "      <th>index</th>\n",
       "      <th>Avg Day</th>\n",
       "      <th>offense_id</th>\n",
       "    </tr>\n",
       "  </thead>\n",
       "  <tbody>\n",
       "    <tr>\n",
       "      <th>0</th>\n",
       "      <td>1</td>\n",
       "      <td>Mon</td>\n",
       "      <td>575</td>\n",
       "    </tr>\n",
       "    <tr>\n",
       "      <th>1</th>\n",
       "      <td>5</td>\n",
       "      <td>Tue</td>\n",
       "      <td>509</td>\n",
       "    </tr>\n",
       "    <tr>\n",
       "      <th>2</th>\n",
       "      <td>6</td>\n",
       "      <td>Wed</td>\n",
       "      <td>520</td>\n",
       "    </tr>\n",
       "    <tr>\n",
       "      <th>3</th>\n",
       "      <td>4</td>\n",
       "      <td>Thu</td>\n",
       "      <td>505</td>\n",
       "    </tr>\n",
       "    <tr>\n",
       "      <th>4</th>\n",
       "      <td>0</td>\n",
       "      <td>Fri</td>\n",
       "      <td>516</td>\n",
       "    </tr>\n",
       "    <tr>\n",
       "      <th>5</th>\n",
       "      <td>2</td>\n",
       "      <td>Sat</td>\n",
       "      <td>605</td>\n",
       "    </tr>\n",
       "    <tr>\n",
       "      <th>6</th>\n",
       "      <td>3</td>\n",
       "      <td>Sun</td>\n",
       "      <td>642</td>\n",
       "    </tr>\n",
       "  </tbody>\n",
       "</table>\n",
       "</div>"
      ],
      "text/plain": [
       "   index Avg Day  offense_id\n",
       "0      1     Mon         575\n",
       "1      5     Tue         509\n",
       "2      6     Wed         520\n",
       "3      4     Thu         505\n",
       "4      0     Fri         516\n",
       "5      2     Sat         605\n",
       "6      3     Sun         642"
      ]
     },
     "execution_count": 49,
     "metadata": {},
     "output_type": "execute_result"
    }
   ],
   "source": [
    "auto = df[(df['UC2 Literal'] == 'AUTO THEFT') & (df['Avg Day'] != 'Unk')].groupby('Avg Day').offense_id.count().reset_index()\n",
    "auto1=auto.reindex([1,5,6,4,0,2,3]).reset_index()\n",
    "auto1"
   ]
  },
  {
   "cell_type": "markdown",
   "metadata": {},
   "source": [
    "It was a bit clumsy getting the days in the correct order!"
   ]
  },
  {
   "cell_type": "code",
   "execution_count": 58,
   "metadata": {
    "collapsed": false
   },
   "outputs": [
    {
     "data": {
      "text/plain": [
       "'done'"
      ]
     },
     "execution_count": 58,
     "metadata": {},
     "output_type": "execute_result"
    },
    {
     "data": {
      "image/png": "[encoded data removed]",
      "text/plain": [
       "<matplotlib.figure.Figure at 0x7fa2d88e56a0>"
      ]
     },
     "metadata": {},
     "output_type": "display_data"
    }
   ],
   "source": [
    "%matplotlib inline\n",
    "fig = plt.figure(figsize=(15,10)) ## dim in inches\n",
    "plt.plot(auto1.index, auto1.offense_id)\n",
    "plt.scatter(auto1.index, auto1.offense_id)\n",
    "plt.ylim(300, 700)\n",
    "plt.title('AUTO THEFTS')\n",
    "plt.xticks(range(7), ['Monday','Tuesday','Wednesday','Thursday','Friday','Saturday','Sunday'])\n",
    "#fig.savefig('BurglaryResidence_over_month.svg')\n",
    "'done'"
   ]
  },
  {
   "cell_type": "markdown",
   "metadata": {},
   "source": [
    "There is clearly a trend of more auto thefts occuring on the weekend days (perhaps spilling over into early Monday morning), while the weekdays have similar levels of thefts. The jump from Friday into Saturday and Sunday is very easy to spot."
   ]
  },
  {
   "cell_type": "markdown",
   "metadata": {},
   "source": [
    "### Insight #2\n",
    "\n",
    "The dataset also gives us the beat number for each crime. The first digit of this number indicates the zone the crime was committed in. Do certain zones have higher rates of crime?\n",
    "\n",
    "To organize the crimes by zone, we can round the beat down to the nearest hundred to isolate the zone number. We'll leave out zone 7 (airport) since it's numbers are much smaller."
   ]
  },
  {
   "cell_type": "code",
   "execution_count": 36,
   "metadata": {
    "collapsed": false
   },
   "outputs": [
    {
     "data": {
      "text/plain": [
       "Zone\n",
       "100    4548\n",
       "200    5454\n",
       "300    4790\n",
       "400    5212\n",
       "500    5095\n",
       "600    4675\n",
       "Name: offense_id, dtype: int64"
      ]
     },
     "execution_count": 36,
     "metadata": {},
     "output_type": "execute_result"
    }
   ],
   "source": [
    "df['Zone'] = round(df.beat,-2)\n",
    "\n",
    "zones = df.groupby('Zone').offense_id.count()[0:6]\n",
    "zones"
   ]
  },
  {
   "cell_type": "code",
   "execution_count": 70,
   "metadata": {
    "collapsed": false
   },
   "outputs": [
    {
     "data": {
      "text/plain": [
       "'done'"
      ]
     },
     "execution_count": 70,
     "metadata": {},
     "output_type": "execute_result"
    },
    {
     "data": {
      "image/png": "[encoded data removed]",
      "text/plain": [
       "<matplotlib.figure.Figure at 0x7fad48f8eb70>"
      ]
     },
     "metadata": {},
     "output_type": "display_data"
    }
   ],
   "source": [
    "%matplotlib inline\n",
    "fig = plt.figure(figsize=(15,10)) ## dim in inches\n",
    "plt.plot([1,2,3,4,5,6], zones)\n",
    "plt.scatter([1,2,3,4,5,6], zones)\n",
    "#plt.ylim(3000, 5600)\n",
    "plt.title('TOTAL CRIMES FOR EACH ZONE')\n",
    "plt.xticks(range(7), ['','Zone 1','Zone 2','Zone 3','Zone 4','Zone 5','Zone 6'])\n",
    "'done'"
   ]
  },
  {
   "cell_type": "markdown",
   "metadata": {},
   "source": [
    "So without controlling for population, it's clear that Zone 2 has the most reported crimes, and Zones 1 & 6 seem to have the lowest total of reported crimes, with Zone 2 having almost 1000 more crimes reported than Zone 1."
   ]
  },
  {
   "cell_type": "markdown",
   "metadata": {},
   "source": [
    "### Insight #3\n",
    "\n",
    "The dataset includes two values for the time of occurence for each crime - an 'occur' time and a 'poss' time. Since the exact time a crime occured is often unknown, a window of time when the crime could have occured must be created. The difference between these two columns in our data should create this window.\n",
    "\n",
    "Do certain crimes have larger time windows when they could have occured?"
   ]
  },
  {
   "cell_type": "code",
   "execution_count": 83,
   "metadata": {
    "collapsed": false
   },
   "outputs": [
    {
     "data": {
      "text/html": [
       "<div>\n",
       "<table border=\"1\" class=\"dataframe\">\n",
       "  <thead>\n",
       "    <tr style=\"text-align: right;\">\n",
       "      <th></th>\n",
       "      <th>occur_ts</th>\n",
       "      <th>poss_ts</th>\n",
       "    </tr>\n",
       "  </thead>\n",
       "  <tbody>\n",
       "    <tr>\n",
       "      <th>207443</th>\n",
       "      <td>2014-12-31 22:00:00</td>\n",
       "      <td>2015-01-01 00:07:00</td>\n",
       "    </tr>\n",
       "    <tr>\n",
       "      <th>207444</th>\n",
       "      <td>2015-01-01 00:03:00</td>\n",
       "      <td>2015-01-01 00:03:00</td>\n",
       "    </tr>\n",
       "    <tr>\n",
       "      <th>207445</th>\n",
       "      <td>2014-12-31 23:45:00</td>\n",
       "      <td>2015-01-01 00:21:00</td>\n",
       "    </tr>\n",
       "    <tr>\n",
       "      <th>207446</th>\n",
       "      <td>2015-01-01 00:30:00</td>\n",
       "      <td>2015-01-01 01:05:00</td>\n",
       "    </tr>\n",
       "    <tr>\n",
       "      <th>207447</th>\n",
       "      <td>2014-12-31 21:00:00</td>\n",
       "      <td>2015-01-01 00:15:00</td>\n",
       "    </tr>\n",
       "    <tr>\n",
       "      <th>207448</th>\n",
       "      <td>2014-12-31 23:15:00</td>\n",
       "      <td>2015-01-01 01:47:00</td>\n",
       "    </tr>\n",
       "    <tr>\n",
       "      <th>207449</th>\n",
       "      <td>2014-12-31 23:00:00</td>\n",
       "      <td>2015-01-01 02:00:00</td>\n",
       "    </tr>\n",
       "    <tr>\n",
       "      <th>207450</th>\n",
       "      <td>2015-01-01 02:00:00</td>\n",
       "      <td>2015-01-01 02:03:00</td>\n",
       "    </tr>\n",
       "    <tr>\n",
       "      <th>207451</th>\n",
       "      <td>2015-01-01 01:50:00</td>\n",
       "      <td>2015-01-01 02:00:00</td>\n",
       "    </tr>\n",
       "  </tbody>\n",
       "</table>\n",
       "</div>"
      ],
      "text/plain": [
       "                  occur_ts             poss_ts\n",
       "207443 2014-12-31 22:00:00 2015-01-01 00:07:00\n",
       "207444 2015-01-01 00:03:00 2015-01-01 00:03:00\n",
       "207445 2014-12-31 23:45:00 2015-01-01 00:21:00\n",
       "207446 2015-01-01 00:30:00 2015-01-01 01:05:00\n",
       "207447 2014-12-31 21:00:00 2015-01-01 00:15:00\n",
       "207448 2014-12-31 23:15:00 2015-01-01 01:47:00\n",
       "207449 2014-12-31 23:00:00 2015-01-01 02:00:00\n",
       "207450 2015-01-01 02:00:00 2015-01-01 02:03:00\n",
       "207451 2015-01-01 01:50:00 2015-01-01 02:00:00"
      ]
     },
     "execution_count": 83,
     "metadata": {},
     "output_type": "execute_result"
    }
   ],
   "source": [
    "df['occur_ts'] = pd.to_datetime(df.occur_date+' '+df.occur_time)\n",
    "df['poss_ts'] = pd.to_datetime(df.poss_date+' '+df.poss_time)\n",
    "df[['occur_ts','poss_ts']][1:10]"
   ]
  },
  {
   "cell_type": "code",
   "execution_count": 114,
   "metadata": {
    "collapsed": false
   },
   "outputs": [
    {
     "data": {
      "text/html": [
       "<div>\n",
       "<table border=\"1\" class=\"dataframe\">\n",
       "  <thead>\n",
       "    <tr style=\"text-align: right;\">\n",
       "      <th></th>\n",
       "      <th>UC2 Literal</th>\n",
       "      <th>TimeDelta</th>\n",
       "    </tr>\n",
       "  </thead>\n",
       "  <tbody>\n",
       "    <tr>\n",
       "      <th>0</th>\n",
       "      <td>AGG ASSAULT</td>\n",
       "      <td>29.737091</td>\n",
       "    </tr>\n",
       "    <tr>\n",
       "      <th>1</th>\n",
       "      <td>AUTO THEFT</td>\n",
       "      <td>42.831955</td>\n",
       "    </tr>\n",
       "    <tr>\n",
       "      <th>2</th>\n",
       "      <td>BURGLARY-NONRES</td>\n",
       "      <td>246.780906</td>\n",
       "    </tr>\n",
       "    <tr>\n",
       "      <th>3</th>\n",
       "      <td>BURGLARY-RESIDENCE</td>\n",
       "      <td>75.198265</td>\n",
       "    </tr>\n",
       "    <tr>\n",
       "      <th>4</th>\n",
       "      <td>LARCENY-FROM VEHICLE</td>\n",
       "      <td>21.584015</td>\n",
       "    </tr>\n",
       "    <tr>\n",
       "      <th>5</th>\n",
       "      <td>LARCENY-NON VEHICLE</td>\n",
       "      <td>64.572094</td>\n",
       "    </tr>\n",
       "    <tr>\n",
       "      <th>6</th>\n",
       "      <td>RAPE</td>\n",
       "      <td>220.707792</td>\n",
       "    </tr>\n",
       "    <tr>\n",
       "      <th>7</th>\n",
       "      <td>ROBBERY-COMMERCIAL</td>\n",
       "      <td>0.348936</td>\n",
       "    </tr>\n",
       "    <tr>\n",
       "      <th>8</th>\n",
       "      <td>ROBBERY-PEDESTRIAN</td>\n",
       "      <td>0.686810</td>\n",
       "    </tr>\n",
       "    <tr>\n",
       "      <th>9</th>\n",
       "      <td>ROBBERY-RESIDENCE</td>\n",
       "      <td>15.508021</td>\n",
       "    </tr>\n",
       "  </tbody>\n",
       "</table>\n",
       "</div>"
      ],
      "text/plain": [
       "            UC2 Literal   TimeDelta\n",
       "0           AGG ASSAULT   29.737091\n",
       "1            AUTO THEFT   42.831955\n",
       "2       BURGLARY-NONRES  246.780906\n",
       "3    BURGLARY-RESIDENCE   75.198265\n",
       "4  LARCENY-FROM VEHICLE   21.584015\n",
       "5   LARCENY-NON VEHICLE   64.572094\n",
       "6                  RAPE  220.707792\n",
       "7    ROBBERY-COMMERCIAL    0.348936\n",
       "8    ROBBERY-PEDESTRIAN    0.686810\n",
       "9     ROBBERY-RESIDENCE   15.508021"
      ]
     },
     "execution_count": 114,
     "metadata": {},
     "output_type": "execute_result"
    }
   ],
   "source": [
    "df['TimeDelta'] = (df.poss_ts - df.occur_ts).astype('timedelta64[h]')\n",
    "df2 = df.groupby('UC2 Literal')['TimeDelta'].agg(np.mean).reset_index()\n",
    "df2\n"
   ]
  },
  {
   "cell_type": "code",
   "execution_count": 112,
   "metadata": {
    "collapsed": false
   },
   "outputs": [
    {
     "data": {
      "text/plain": [
       "<matplotlib.text.Text at 0x7fada2d65cc0>"
      ]
     },
     "execution_count": 112,
     "metadata": {},
     "output_type": "execute_result"
    },
    {
     "data": {
      "image/png": "[encoded data removed]",
      "text/plain": [
       "<matplotlib.figure.Figure at 0x7fad4947e9e8>"
      ]
     },
     "metadata": {},
     "output_type": "display_data"
    }
   ],
   "source": [
    "%matplotlib inline\n",
    "fig = plt.figure(figsize=(20,10)) ## dim in inches\n",
    "y_pos = np.arange(len(df2['UC2 Literal']))\n",
    " \n",
    "plt.bar(y_pos, df2.TimeDelta, align='center', alpha=0.5)\n",
    "plt.xticks(y_pos, df2['UC2 Literal'].str[:13])\n",
    "plt.ylabel('Hours')\n",
    "plt.title('SIZE OF TIME WINDOW WHEN CRIME COULD HAVE OCCURED')\n"
   ]
  },
  {
   "cell_type": "markdown",
   "metadata": {},
   "source": [
    "We clearly have large differences in the way the possible time for different crime types are recorded. The data show some intuitive differences.\n",
    "\n",
    "For example, since robberies happen directly to the victim, it's fairly easy to know exactly when the crime occured, and we see their windows are small. The same logic follows for assaults. It seems larceny from vehicles is similar, which indicates that most people check their vehicles every day and notice something's gone.\n",
    "\n",
    "On the other side of the spectrum, non-residential burglaries and rapes have very large windows, about 9-10 days on average. There's some logic with the non-residential burglaries, since missing items may go unnoticed for awhile. But with rapes, it's unclear why the average window is so large. Since we've used the mean time delta value, high outliers may be influencing our value. Also, recordkeeping methods may explain some of the differences we see in the data.\n"
   ]
  },
  {
   "cell_type": "markdown",
   "metadata": {},
   "source": [
    "## Part 2\n",
    "\n",
    "I'm picking aggravated assaults to look at seasonality and annual trends."
   ]
  },
  {
   "cell_type": "code",
   "execution_count": 115,
   "metadata": {
    "collapsed": true
   },
   "outputs": [],
   "source": [
    "data = pd.read_excel('/home/data/APD/COBRA083016.xlsx', sheetname='Query')"
   ]
  },
  {
   "cell_type": "code",
   "execution_count": 132,
   "metadata": {
    "collapsed": false
   },
   "outputs": [
    {
     "name": "stderr",
     "output_type": "stream",
     "text": [
      "/usr/lib/python3.4/site-packages/ipykernel/__main__.py:2: SettingWithCopyWarning: \n",
      "A value is trying to be set on a copy of a slice from a DataFrame.\n",
      "Try using .loc[row_indexer,col_indexer] = value instead\n",
      "\n",
      "See the caveats in the documentation: http://pandas.pydata.org/pandas-docs/stable/indexing.html#indexing-view-versus-copy\n",
      "  from ipykernel import kernelapp as app\n",
      "/usr/lib/python3.4/site-packages/ipykernel/__main__.py:3: SettingWithCopyWarning: \n",
      "A value is trying to be set on a copy of a slice from a DataFrame.\n",
      "Try using .loc[row_indexer,col_indexer] = value instead\n",
      "\n",
      "See the caveats in the documentation: http://pandas.pydata.org/pandas-docs/stable/indexing.html#indexing-view-versus-copy\n",
      "  app.launch_new_instance()\n",
      "/usr/lib/python3.4/site-packages/ipykernel/__main__.py:4: SettingWithCopyWarning: \n",
      "A value is trying to be set on a copy of a slice from a DataFrame.\n",
      "Try using .loc[row_indexer,col_indexer] = value instead\n",
      "\n",
      "See the caveats in the documentation: http://pandas.pydata.org/pandas-docs/stable/indexing.html#indexing-view-versus-copy\n"
     ]
    },
    {
     "data": {
      "text/plain": [
       "occuryear  occurmonth\n",
       "2004.0     2.0             1\n",
       "2007.0     2.0             1\n",
       "           3.0             1\n",
       "2008.0     12.0            4\n",
       "2009.0     1.0           217\n",
       "           2.0           203\n",
       "           3.0           230\n",
       "           4.0           227\n",
       "           5.0           223\n",
       "           6.0           250\n",
       "           7.0           263\n",
       "           8.0           198\n",
       "           9.0           207\n",
       "           10.0          217\n",
       "           11.0          182\n",
       "           12.0          173\n",
       "2010.0     1.0           179\n",
       "           2.0           159\n",
       "           3.0           221\n",
       "           4.0           228\n",
       "           5.0           236\n",
       "           6.0           217\n",
       "           7.0           255\n",
       "           8.0           232\n",
       "           9.0           227\n",
       "           10.0          244\n",
       "           11.0          206\n",
       "           12.0          186\n",
       "2011.0     1.0           167\n",
       "           2.0           175\n",
       "                        ... \n",
       "2014.0     3.0           197\n",
       "           4.0           176\n",
       "           5.0           189\n",
       "           6.0           185\n",
       "           7.0           209\n",
       "           8.0           226\n",
       "           9.0           206\n",
       "           10.0          160\n",
       "           11.0          161\n",
       "           12.0          173\n",
       "2015.0     1.0           155\n",
       "           2.0           139\n",
       "           3.0           189\n",
       "           4.0           190\n",
       "           5.0           182\n",
       "           6.0           205\n",
       "           7.0           201\n",
       "           8.0           209\n",
       "           9.0           176\n",
       "           10.0          172\n",
       "           11.0          142\n",
       "           12.0          149\n",
       "2016.0     1.0           145\n",
       "           2.0           124\n",
       "           3.0           185\n",
       "           4.0           158\n",
       "           5.0           200\n",
       "           6.0           208\n",
       "           7.0           186\n",
       "           8.0           188\n",
       "Name: offense_id, dtype: int64"
      ]
     },
     "execution_count": 132,
     "metadata": {},
     "output_type": "execute_result"
    }
   ],
   "source": [
    "assault = data[data['UC2 Literal'] == 'AGG ASSAULT']\n",
    "assault['occur_ts'] = pd.to_datetime(assault.occur_date+' '+assault.occur_time)\n",
    "assault['occurmonth'] = assault.occur_ts.map(lambda x : x.month)\n",
    "assault['occuryear'] = assault.occur_ts.map(lambda x : x.year)\n",
    "res = assault.groupby(['occuryear','occurmonth']).offense_id.count()\n",
    "res\n"
   ]
  },
  {
   "cell_type": "code",
   "execution_count": 168,
   "metadata": {
    "collapsed": false
   },
   "outputs": [
    {
     "data": {
      "text/plain": [
       "occurmonth\n",
       "1.0     175.142857\n",
       "2.0     162.000000\n",
       "3.0     204.000000\n",
       "4.0     207.428571\n",
       "5.0     224.142857\n",
       "6.0     216.142857\n",
       "7.0     227.714286\n",
       "8.0     219.428571\n",
       "9.0     208.142857\n",
       "10.0    193.285714\n",
       "11.0    169.571429\n",
       "12.0    175.285714\n",
       "Name: offense_id, dtype: float64"
      ]
     },
     "execution_count": 168,
     "metadata": {},
     "output_type": "execute_result"
    }
   ],
   "source": [
    "res1 = assault[assault.occuryear.between(2009.0,2015.0,inclusive=True)].groupby('occurmonth')['offense_id'].count()\n",
    "res1 = res1 / 7\n",
    "res1"
   ]
  },
  {
   "cell_type": "code",
   "execution_count": 171,
   "metadata": {
    "collapsed": false
   },
   "outputs": [
    {
     "data": {
      "text/plain": [
       "'done'"
      ]
     },
     "execution_count": 171,
     "metadata": {},
     "output_type": "execute_result"
    },
    {
     "data": {
      "image/png": "[encoded data removed]",
      "text/plain": [
       "<matplotlib.figure.Figure at 0x7fada2b691d0>"
      ]
     },
     "metadata": {},
     "output_type": "display_data"
    }
   ],
   "source": [
    "%matplotlib inline\n",
    "fig = plt.figure(figsize=(15,10)) ## dim in inches\n",
    "#plt.plot(res[2009.0].index, res[2009.0])\n",
    "plt.scatter(res[2009.0].index, res[2009.0])\n",
    "#plt.plot(res[2010.0].index, res[2010.0])\n",
    "plt.scatter(res[2010.0].index, res[2010.0])\n",
    "#plt.plot(res[2011.0].index, res[2011.0])\n",
    "plt.scatter(res[2011.0].index, res[2011.0])\n",
    "#plt.plot(res[2012.0].index, res[2012.0])\n",
    "plt.scatter(res[2012.0].index, res[2012.0])\n",
    "#plt.plot(res[2013.0].index, res[2013.0])\n",
    "plt.scatter(res[2013.0].index, res[2013.0])\n",
    "#plt.plot(res[2014.0].index, res[2014.0])\n",
    "plt.scatter(res[2014.0].index, res[2014.0])\n",
    "#plt.plot(res[2015.0].index, res[2015.0])\n",
    "plt.scatter(res[2015.0].index, res[2015.0])\n",
    "plt.plot(res1.index,res1)\n",
    "#plt.ylim(0, 500)\n",
    "plt.title('AGGRAVATED ASSAULTS BY MONTH, 2009-2015')\n",
    "plt.xticks(range(13), ['', 'Jan', 'Feb', 'Mar', 'Apr', 'May', 'Jun', 'Jul', 'Aug', 'Sep', 'Oct', 'Nov', 'Dec'])\n",
    "#fig.savefig('BurglaryResidence_over_month.svg')\n",
    "'done'"
   ]
  },
  {
   "cell_type": "markdown",
   "metadata": {},
   "source": [
    "I've plotted the number of aggravated assaults for each month for the years 2009-2015, and included a line for the average of those years. There is clear seasonality shown, with the late spring and summer months far outpacing the winter months for the number of assaults."
   ]
  },
  {
   "cell_type": "code",
   "execution_count": 172,
   "metadata": {
    "collapsed": false
   },
   "outputs": [
    {
     "data": {
      "text/plain": [
       "occuryear\n",
       "2009.0    2590\n",
       "2010.0    2590\n",
       "2011.0    2515\n",
       "2012.0    2458\n",
       "2013.0    2231\n",
       "2014.0    2183\n",
       "2015.0    2109\n",
       "Name: offense_id, dtype: int64"
      ]
     },
     "execution_count": 172,
     "metadata": {},
     "output_type": "execute_result"
    }
   ],
   "source": [
    "res2 = assault[assault.occuryear.between(2009.0,2015.0,inclusive=True)].groupby('occuryear')['offense_id'].count()\n",
    "res2"
   ]
  },
  {
   "cell_type": "code",
   "execution_count": 188,
   "metadata": {
    "collapsed": false
   },
   "outputs": [
    {
     "data": {
      "text/plain": [
       "''"
      ]
     },
     "execution_count": 188,
     "metadata": {},
     "output_type": "execute_result"
    },
    {
     "data": {
      "image/png": "[encoded data removed]",
      "text/plain": [
       "<matplotlib.figure.Figure at 0x7fada2c2b1d0>"
      ]
     },
     "metadata": {},
     "output_type": "display_data"
    }
   ],
   "source": [
    "%matplotlib inline\n",
    "fig = plt.figure(figsize=(15,10)) ## dim in inches\n",
    "plt.plot(res2.index, res2)\n",
    "plt.scatter(res2.index, res2)\n",
    "plt.xticks(range(2009,2016),['2009','2010','2011','2012','2013','2014','2015'])\n",
    "#plt.ylim(0, 500)\n",
    "plt.title('AGGRAVATED ASSAULT')\n",
    "''"
   ]
  },
  {
   "cell_type": "markdown",
   "metadata": {},
   "source": [
    "As we can see, though, the number of aggraveted assaults has fallen each year since 2009."
   ]
  }
 ],
 "metadata": {
  "kernelspec": {
   "display_name": "Python 3",
   "language": "python",
   "name": "python3"
  },
  "language_info": {
   "codemirror_mode": {
    "name": "ipython",
    "version": 3
   },
   "file_extension": ".py",
   "mimetype": "text/x-python",
   "name": "python",
   "nbconvert_exporter": "python",
   "pygments_lexer": "ipython3",
   "version": "3.4.3"
  }
 },
 "nbformat": 4,
 "nbformat_minor": 0
}
